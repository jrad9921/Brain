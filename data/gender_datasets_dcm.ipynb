{
 "cells": [
  {
   "cell_type": "code",
   "execution_count": null,
   "id": "b48b23d8-8c4a-490e-abc1-21e69ed202d1",
   "metadata": {},
   "outputs": [
    {
     "ename": "",
     "evalue": "",
     "output_type": "error",
     "traceback": [
      "\u001b[1;31mFailed to start the Kernel. \n",
      "\u001b[1;31mAttributeError: partially initialized module 'zipfile' has no attribute 'ZipFile' (most likely due to a circular import). Did you mean: 'zipfile'?. \n",
      "\u001b[1;31mView Jupyter <a href='command:jupyter.viewOutput'>log</a> for further details."
     ]
    }
   ],
   "source": [
    "import sqlite3\n",
    "import pandas as pd\n",
    "import seaborn as sns\n",
    "import matplotlib.pyplot as plt\n",
    "import zipfile \n",
    "import numpy as np\n",
    "import pydicom as dicom\n",
    "from pathlib import Path\n",
    "import itertools\n",
    "import torch\n",
    "from torchvision.datasets import ImageFolder\n",
    "from torch import nn\n",
    "from torch import optim\n",
    "from torchvision import datasets, transforms\n",
    "from torch.utils.data import random_split, DataLoader\n",
    "\n"
   ]
  },
  {
   "cell_type": "code",
   "execution_count": 2,
   "id": "b11824b4",
   "metadata": {},
   "outputs": [
    {
     "name": "stdout",
     "output_type": "stream",
     "text": [
      "                 eid                                          file_path\n",
      "0  2009114_20219_2_0  2009114_20219_2_0.zip/1.3.12.2.1107.5.2.19.455...\n",
      "1  1539636_20219_2_0  1539636_20219_2_0.zip/1.3.12.2.1107.5.2.19.145...\n",
      "2  1728592_20219_2_0  1728592_20219_2_0.zip/1.3.12.2.1107.5.2.19.145...\n",
      "3  1480528_20219_2_0  1480528_20219_2_0.zip/1.3.12.2.1107.5.2.19.145...\n",
      "4  1334757_20219_2_0  1334757_20219_2_0.zip/1.3.12.2.1107.5.2.19.455...\n",
      "(11525, 2)\n"
     ]
    }
   ],
   "source": [
    "patient_id, filelist = [],[]\n",
    "for zipfile_path in list(Path(\"20219\").glob('*.zip')): #itertools.islice(zipfile_paths, 100):\n",
    "    with zipfile.ZipFile(zipfile_path) as zf:\n",
    "        patient_id.append(zipfile_path.stem)\n",
    "        filelist.append(zf.namelist()[15])\n",
    "df_image = pd.DataFrame({'eid': patient_id, 'file_path': filelist})\n",
    "df_image['file_path'] = df_image['eid']  + '.zip/' + df_image['file_path']\n",
    "print(df_image.head())\n",
    "print(df_image.shape)"
   ]
  },
  {
   "cell_type": "code",
   "execution_count": 8,
   "id": "81281fe0-0043-4301-bfba-0a702133972d",
   "metadata": {},
   "outputs": [
    {
     "name": "stdout",
     "output_type": "stream",
     "text": [
      "       eid      20219\n",
      "0  1000010  20219_2_0\n",
      "1  1000104  20219_2_0\n",
      "2  1000196  20219_2_0\n",
      "3  1000254  20219_2_0\n",
      "4  1000370  20219_2_0\n",
      "       eid  Gender\n",
      "0  1000010       0\n",
      "1  1000028       0\n",
      "2  1000034       1\n",
      "3  1000045       1\n",
      "4  1000052       0\n",
      "       eid      20219  Gender\n",
      "0  1000010  20219_2_0       0\n",
      "1  1000104  20219_2_0       0\n",
      "2  1000196  20219_2_0       1\n",
      "3  1000196  20219_3_0       1\n",
      "4  1000254  20219_2_0       0\n",
      "eid       0\n",
      "20219     0\n",
      "Gender    0\n",
      "dtype: int64\n",
      "                 eid  Gender\n",
      "0  1000010_20219_2_0       0\n",
      "1  1000104_20219_2_0       0\n",
      "2  1000196_20219_2_0       1\n",
      "3  1000196_20219_3_0       1\n",
      "4  1000254_20219_2_0       0\n",
      "(56768, 2)\n",
      "Gender\n",
      "0    29573\n",
      "1    27195\n",
      "Name: count, dtype: int64\n"
     ]
    },
    {
     "data": {
      "image/png": "[encoded data removed]",
      "text/plain": [
       "<Figure size 640x480 with 1 Axes>"
      ]
     },
     "metadata": {},
     "output_type": "display_data"
    }
   ],
   "source": [
    "#Creating age and gender dataframes\n",
    "con = sqlite3.connect(\"ukbiobank.db\")\n",
    "\n",
    "df1 = pd.read_sql(\"select * from '20219';\", con)\n",
    "df1.drop(columns=['instance_index', 'array_index'], inplace = True)\n",
    "print(df1.head())\n",
    "\n",
    "#df2 = pd.read_sql(\"select * from '34';\", con)\n",
    "#df2.drop(columns=['instance_index', 'array_index'], inplace= True)\n",
    "#df2.rename(columns={\"34\": \"Year of Birth\"}, inplace=True)\n",
    "\n",
    "#df3 = pd.read_sql(\"select * from '53';\", con)\n",
    "#df3.rename(columns={\"53\": \"Date of Visit\"}, inplace=True)\n",
    "#df3['Date of Visit'] = pd.to_datetime(df3['Date of Visit'], errors='coerce')\n",
    "#df3['Year of Visit'] = df3['Date of Visit'].dt.year\n",
    "#df3.drop(columns=['instance_index', 'array_index', 'Date of Visit'], inplace= True)\n",
    "\n",
    "df4 = pd.read_sql(\"select * from '31';\", con)\n",
    "df4.drop(columns=['instance_index', 'array_index'], inplace= True)\n",
    "df4.rename(columns={\"31\": \"Gender\"}, inplace=True)\n",
    "print(df4.head())\n",
    "\n",
    "df_merged = df1.merge(df4, on = 'eid', how = 'inner')\n",
    "#df_merged[\"Age\"] = df_merged['Year of Visit'] - df_merged['Year of Birth']\n",
    "#df_merged.loc[(df_merged.Age < 55),  'AgeGroup'] = '0'\n",
    "#df_merged.loc[(df_merged.Age > 65),  'AgeGroup'] = '1'\n",
    "#df_age = df_merged.drop(columns=['Year of Birth', 'Year of Visit', 'Gender', 'Age'])\n",
    "print(df_merged.head())\n",
    "\n",
    "#df_age = df_merged.drop(columns=['Year of Birth', 'Year of Visit', 'Age', 'AgeGroup'])\n",
    "df_gender = df_merged.dropna()\n",
    "print(df_gender.isna().sum())\n",
    "\n",
    "\n",
    "df_gender['eid'] = df_gender['eid'].astype(str)\n",
    "df_gender['20219'] = df_gender['20219'].astype(str)\n",
    "df_gender['eid'] = df_gender['eid'].str.cat(df_gender['20219'], sep='_').str.replace(' ', '_')\n",
    "df_gender.drop(columns=['20219'], inplace= True)\n",
    "print(df_gender.head())\n",
    "print(df_gender.shape)\n",
    "#sns.kdeplot(df['Age'])\n",
    "## sns.distplot(df['Age'], hist = False, kde = True, kde_kws = {'shade': True, 'linewidth':3}, label = Age)\n",
    "#plt.show()  \n",
    "\n",
    "gender_dist = df_gender['Gender'].value_counts()\n",
    "print(gender_dist)\n",
    "gender_dist.plot.pie()\n",
    "con.close()\n",
    "\n",
    "\n",
    "# df_age['AgeGroup'] = pd.to_numeric(df_age['AgeGroup'], errors='coerce').astype(pd.Int64Dtype())"
   ]
  },
  {
   "cell_type": "code",
   "execution_count": 9,
   "id": "727ffb5f-740f-4441-8442-2a73aa05e027",
   "metadata": {},
   "outputs": [
    {
     "name": "stdout",
     "output_type": "stream",
     "text": [
      "                 eid                                          file_path   \n",
      "0  2009114_20219_2_0  2009114_20219_2_0.zip/1.3.12.2.1107.5.2.19.455...  \\\n",
      "1  1539636_20219_2_0  1539636_20219_2_0.zip/1.3.12.2.1107.5.2.19.145...   \n",
      "2  1728592_20219_2_0  1728592_20219_2_0.zip/1.3.12.2.1107.5.2.19.145...   \n",
      "3  1480528_20219_2_0  1480528_20219_2_0.zip/1.3.12.2.1107.5.2.19.145...   \n",
      "4  1334757_20219_2_0  1334757_20219_2_0.zip/1.3.12.2.1107.5.2.19.455...   \n",
      "\n",
      "   Gender  \n",
      "0       0  \n",
      "1       1  \n",
      "2       1  \n",
      "3       0  \n",
      "4       0  \n",
      "(11525, 3)\n"
     ]
    }
   ],
   "source": [
    "#df_age['eid'] =  df_age['eid'].astype(str)\n",
    "#df_image['eid'] = df_image['eid'].astype(str)\n",
    "\n",
    "df_final = df_image.merge(df_gender, on = 'eid', how = 'inner')\n",
    "print(df_final.head())\n",
    "print(df_final.shape)"
   ]
  },
  {
   "cell_type": "code",
   "execution_count": 11,
   "id": "9b671064-8dba-4d8b-86c6-0a6e06364210",
   "metadata": {},
   "outputs": [],
   "source": [
    "#Creating the train and test csv files\n",
    "\n",
    "from sklearn.model_selection import train_test_split\n",
    "train_df, test_df = train_test_split(df_final, test_size=0.2)\n",
    "train_df.to_csv('train_gender.csv', index = False)\n",
    "test_df.to_csv('test_gender.csv', index = False)"
   ]
  },
  {
   "cell_type": "code",
   "execution_count": 12,
   "id": "e866419e-6b3b-4062-a1e5-19039f3b49cf",
   "metadata": {},
   "outputs": [
    {
     "data": {
      "text/plain": [
       "(9220, 3)"
      ]
     },
     "execution_count": 12,
     "metadata": {},
     "output_type": "execute_result"
    }
   ],
   "source": [
    "train_gender = pd.read_csv('train.csv')\n",
    "test_gender = pd.read_csv('test.csv')\n",
    "# sample_submission = pd.read_csv('sample_submission_I5njJSF.csv')\n",
    "train_gender.head()\n",
    "train_gender.shape"
   ]
  },
  {
   "cell_type": "code",
   "execution_count": 13,
   "id": "53cc2e24-f4d4-4480-9367-85b960ce4263",
   "metadata": {},
   "outputs": [
    {
     "name": "stdout",
     "output_type": "stream",
     "text": [
      "int64\n"
     ]
    }
   ],
   "source": [
    "df = pd.read_csv('train_gender.csv')\n",
    "column_data_type = df['Gender'].dtype\n",
    "print(column_data_type)"
   ]
  },
  {
   "cell_type": "code",
   "execution_count": null,
   "id": "8b32f317-e587-4130-b09d-f25c5dd90fe4",
   "metadata": {},
   "outputs": [],
   "source": []
  }
 ],
 "metadata": {
  "kernelspec": {
   "display_name": "Python 3 (ipykernel)",
   "language": "python",
   "name": "python3"
  },
  "language_info": {
   "codemirror_mode": {
    "name": "ipython",
    "version": 3
   },
   "file_extension": ".py",
   "mimetype": "text/x-python",
   "name": "python",
   "nbconvert_exporter": "python",
   "pygments_lexer": "ipython3",
   "version": "3.11.3"
  }
 },
 "nbformat": 4,
 "nbformat_minor": 5
}
